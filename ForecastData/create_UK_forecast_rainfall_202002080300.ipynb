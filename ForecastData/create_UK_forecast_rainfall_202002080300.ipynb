{
 "cells": [
  {
   "cell_type": "markdown",
   "metadata": {},
   "source": [
    "# This notebook loads the rainfall forecast maps in the UK from 6 - 13 Feb 2020 during Storm Ciara/Dennis\n",
    "\n",
    "#### Using Iris for NetCDF data load and processing"
   ]
  },
  {
   "cell_type": "markdown",
   "metadata": {},
   "source": [
    "### Data acquired from Met Office MOGREPS-UK forecast\n",
    "\n",
    "### For Met Office Climate Data Challenge 2022 Team 3A - Providing Historical Context to Extreme Events in Real-time\n",
    "\n",
    "\n",
    "##### Correspondence: Timothy Lam t.lam@exeter.ac.uk"
   ]
  },
  {
   "cell_type": "markdown",
   "metadata": {},
   "source": [
    "#### Imports"
   ]
  },
  {
   "cell_type": "code",
   "execution_count": 2,
   "metadata": {},
   "outputs": [],
   "source": [
    "import matplotlib.pyplot as plt\n",
    "%matplotlib inline\n",
    "\n",
    "import numpy as np\n",
    "\n",
    "import os\n",
    "\n",
    "import iris\n",
    "\n",
    "import iris.quickplot as qplt\n",
    "import iris.coord_categorisation as coord_cat\n",
    "\n",
    "import xarray as xr\n",
    "\n",
    "import glob"
   ]
  },
  {
   "cell_type": "markdown",
   "metadata": {},
   "source": [
    "#### Set data path"
   ]
  },
  {
   "cell_type": "code",
   "execution_count": 4,
   "metadata": {},
   "outputs": [],
   "source": [
    "DATA_PATH = 'D:/UoE/Workshops/Met Office Climate Data Challenge 2022/Forecast Data/202002080300/'"
   ]
  },
  {
   "cell_type": "markdown",
   "metadata": {},
   "source": [
    "#### Combine NetCDF files of different ensemble members"
   ]
  },
  {
   "cell_type": "code",
   "execution_count": 5,
   "metadata": {},
   "outputs": [],
   "source": [
    "precip_path = xr.open_mfdataset(DATA_PATH + '202002080300_u1096_ng_ek*.nc', concat_dim = 'ensemble', combine = 'nested', decode_times = True)"
   ]
  },
  {
   "cell_type": "code",
   "execution_count": 6,
   "metadata": {},
   "outputs": [
    {
     "name": "stdout",
     "output_type": "stream",
     "text": [
      "<xarray.Dataset>\n",
      "Dimensions:                  (bnds: 2, ensemble: 11, projection_x_coordinate: 548, projection_y_coordinate: 704, time: 54)\n",
      "Coordinates:\n",
      "  * time                     (time) datetime64[ns] 2020-02-08T04:00:00 ... 20...\n",
      "  * projection_y_coordinate  (projection_y_coordinate) float32 -1.84e+05 ... ...\n",
      "  * projection_x_coordinate  (projection_x_coordinate) float32 -2.38e+05 ... ...\n",
      "    experiment_number        int16 0\n",
      "    forecast_period          (time) int32 dask.array<chunksize=(54,), meta=np.ndarray>\n",
      "    forecast_reference_time  datetime64[ns] 2020-02-08T03:00:00\n",
      "    realization              (ensemble) int32 0 1 3 4 5 6 7 8 9 10 11\n",
      "Dimensions without coordinates: bnds, ensemble\n",
      "Data variables:\n",
      "    amount_of_precipitation  (ensemble, time, projection_y_coordinate, projection_x_coordinate) float32 dask.array<chunksize=(1, 54, 704, 548), meta=np.ndarray>\n",
      "    transverse_mercator      (ensemble) int32 -2147483647 ... -2147483647\n",
      "    time_bnds                (ensemble, time, bnds) datetime64[ns] dask.array<chunksize=(1, 54, 2), meta=np.ndarray>\n",
      "    forecast_period_bnds     (ensemble, time, bnds) int32 dask.array<chunksize=(1, 54, 2), meta=np.ndarray>\n",
      "Attributes:\n",
      "    field_code:        61\n",
      "    institution:       Met Office\n",
      "    nimrod_version:    2\n",
      "    num_model_levels:  1\n",
      "    processing:        accumulation or average\n",
      "    source:            ek\n",
      "    title:             Unknown\n",
      "    Conventions:       CF-1.7\n"
     ]
    }
   ],
   "source": [
    "print (precip_path)"
   ]
  },
  {
   "cell_type": "code",
   "execution_count": 7,
   "metadata": {},
   "outputs": [
    {
     "name": "stdout",
     "output_type": "stream",
     "text": [
      "[########################################] | 100% Completed | 28.0s\n"
     ]
    }
   ],
   "source": [
    "from dask.diagnostics import ProgressBar\n",
    "\n",
    "time_to_netcdf = precip_path.to_netcdf (DATA_PATH + '202002080300.nc', compute = False)\n",
    "\n",
    "with ProgressBar():\n",
    "    results = time_to_netcdf.compute()"
   ]
  },
  {
   "cell_type": "markdown",
   "metadata": {},
   "source": [
    "#### Check variables of the NetCDF file"
   ]
  },
  {
   "cell_type": "code",
   "execution_count": 8,
   "metadata": {},
   "outputs": [
    {
     "name": "stdout",
     "output_type": "stream",
     "text": [
      "amount_of_precipitation / (mm)      (-- : 11; time: 54; projection_y_coordinate: 704; projection_x_coordinate: 548)\n",
      "     Dimension coordinates:\n",
      "          time                          -         x                            -                             -\n",
      "          projection_y_coordinate       -         -                            x                             -\n",
      "          projection_x_coordinate       -         -                            -                             x\n",
      "     Auxiliary coordinates:\n",
      "          realization                   x         -                            -                             -\n",
      "          forecast_period               -         x                            -                             -\n",
      "     Scalar coordinates:\n",
      "          experiment_number: 0\n",
      "          forecast_reference_time: 2020-02-08 03:00:00\n",
      "     Attributes:\n",
      "          Conventions: CF-1.7\n",
      "          field_code: 61\n",
      "          institution: Met Office\n",
      "          nimrod_version: 2\n",
      "          num_model_levels: 1\n",
      "          processing: accumulation or average\n",
      "          source: ek\n",
      "          title: Unknown\n"
     ]
    },
    {
     "name": "stderr",
     "output_type": "stream",
     "text": [
      "C:\\Users\\user\\Anaconda3\\lib\\site-packages\\iris\\fileformats\\cf.py:1156: UserWarning: Ignoring variable 'time_bnds' referenced by variable 'time': Dimensions ('ensemble', 'time', 'bnds') do not span ('time',)\n",
      "  warnings.warn(msg)\n",
      "C:\\Users\\user\\Anaconda3\\lib\\site-packages\\iris\\fileformats\\cf.py:1156: UserWarning: Ignoring variable 'forecast_period_bnds' referenced by variable 'forecast_period': Dimensions ('ensemble', 'time', 'bnds') do not span ('time',)\n",
      "  warnings.warn(msg)\n"
     ]
    }
   ],
   "source": [
    "precip = iris.load('202002080300/202002080300.nc')\n",
    "print (precip[0])"
   ]
  },
  {
   "cell_type": "code",
   "execution_count": 9,
   "metadata": {},
   "outputs": [
    {
     "name": "stderr",
     "output_type": "stream",
     "text": [
      "C:\\Users\\user\\Anaconda3\\lib\\site-packages\\iris\\fileformats\\cf.py:1156: UserWarning: Ignoring variable 'time_bnds' referenced by variable 'time': Dimensions ('ensemble', 'time', 'bnds') do not span ('time',)\n",
      "  warnings.warn(msg)\n",
      "C:\\Users\\user\\Anaconda3\\lib\\site-packages\\iris\\fileformats\\cf.py:1156: UserWarning: Ignoring variable 'forecast_period_bnds' referenced by variable 'forecast_period': Dimensions ('ensemble', 'time', 'bnds') do not span ('time',)\n",
      "  warnings.warn(msg)\n"
     ]
    }
   ],
   "source": [
    "precip_path = '202002080300/202002080300.nc'\n",
    "precip = iris.load_cube(precip_path, 'amount_of_precipitation')\n",
    "precip.coord('projection_y_coordinate').guess_bounds()\n",
    "precip.coord('projection_x_coordinate').guess_bounds()\n"
   ]
  },
  {
   "cell_type": "markdown",
   "metadata": {},
   "source": [
    "#### Choose the first ensemble member"
   ]
  },
  {
   "cell_type": "code",
   "execution_count": 10,
   "metadata": {},
   "outputs": [],
   "source": [
    "ensemble_1 = precip [0]"
   ]
  },
  {
   "cell_type": "code",
   "execution_count": 11,
   "metadata": {},
   "outputs": [
    {
     "name": "stdout",
     "output_type": "stream",
     "text": [
      "amount_of_precipitation / (mm)      (time: 54; projection_y_coordinate: 704; projection_x_coordinate: 548)\n",
      "     Dimension coordinates:\n",
      "          time                           x                            -                             -\n",
      "          projection_y_coordinate        -                            x                             -\n",
      "          projection_x_coordinate        -                            -                             x\n",
      "     Auxiliary coordinates:\n",
      "          forecast_period                x                            -                             -\n",
      "     Scalar coordinates:\n",
      "          experiment_number: 0\n",
      "          forecast_reference_time: 2020-02-08 03:00:00\n",
      "          realization: 0\n",
      "     Attributes:\n",
      "          Conventions: CF-1.7\n",
      "          field_code: 61\n",
      "          institution: Met Office\n",
      "          nimrod_version: 2\n",
      "          num_model_levels: 1\n",
      "          processing: accumulation or average\n",
      "          source: ek\n",
      "          title: Unknown\n"
     ]
    }
   ],
   "source": [
    "print (ensemble_1)"
   ]
  },
  {
   "cell_type": "markdown",
   "metadata": {},
   "source": [
    "#### Create a rolling sum at every 24-hour timestep "
   ]
  },
  {
   "cell_type": "code",
   "execution_count": 27,
   "metadata": {},
   "outputs": [],
   "source": [
    "daily_sum_1 = ensemble_1.rolling_window ('time', iris.analysis.SUM, 24)"
   ]
  },
  {
   "cell_type": "markdown",
   "metadata": {},
   "source": [
    "#### Plot data for the first time step"
   ]
  },
  {
   "cell_type": "code",
   "execution_count": 35,
   "metadata": {},
   "outputs": [
    {
     "name": "stderr",
     "output_type": "stream",
     "text": [
      "C:\\Users\\user\\Anaconda3\\lib\\site-packages\\iris\\coord_systems.py:531: UserWarning: The default value for the *approx* keyword argument to TransverseMercator will change from True to False after 0.18.\n",
      "  globe=globe,\n"
     ]
    },
    {
     "data": {
      "text/plain": [
       "<cartopy.mpl.feature_artist.FeatureArtist at 0x2a964aa7dd8>"
      ]
     },
     "execution_count": 35,
     "metadata": {},
     "output_type": "execute_result"
    },
    {
     "data": {
      "image/png": "[encoded data removed]",
      "text/plain": [
       "<Figure size 432x288 with 2 Axes>"
      ]
     },
     "metadata": {
      "needs_background": "light"
     },
     "output_type": "display_data"
    }
   ],
   "source": [
    "qplt.pcolormesh(daily_sum_1[10], vmin = 45, vmax = 95) \n",
    "plt.gca().coastlines()"
   ]
  },
  {
   "cell_type": "markdown",
   "metadata": {},
   "source": [
    "So the remaining issues are as follows:\n",
    "\n",
    "(1) Loop through different ensemble members - It is not possible to run the rollowing_window function to the precip cube with all ensemble members as a whole as it gives an error 'Empty tuples are not allowed in chunks'.\n",
    "\n",
    "(2) Iterate to plot over different time steps"
   ]
  },
  {
   "cell_type": "markdown",
   "metadata": {},
   "source": [
    "#### Create daily total"
   ]
  },
  {
   "cell_type": "markdown",
   "metadata": {},
   "source": [
    "Alternatively, we can create daily total by aggregating the hourly data by day. "
   ]
  },
  {
   "cell_type": "code",
   "execution_count": 36,
   "metadata": {},
   "outputs": [],
   "source": [
    "coord_cat.add_day_of_month (precip, 'time', name='day')\n",
    "coord_cat.add_month (precip, 'time', name='month')"
   ]
  },
  {
   "cell_type": "code",
   "execution_count": 37,
   "metadata": {},
   "outputs": [
    {
     "name": "stdout",
     "output_type": "stream",
     "text": [
      "amount_of_precipitation / (mm)      (-- : 11; time: 54; projection_y_coordinate: 704; projection_x_coordinate: 548)\n",
      "     Dimension coordinates:\n",
      "          time                          -         x                            -                             -\n",
      "          projection_y_coordinate       -         -                            x                             -\n",
      "          projection_x_coordinate       -         -                            -                             x\n",
      "     Auxiliary coordinates:\n",
      "          realization                   x         -                            -                             -\n",
      "          day                           -         x                            -                             -\n",
      "          forecast_period               -         x                            -                             -\n",
      "          month                         -         x                            -                             -\n",
      "     Scalar coordinates:\n",
      "          experiment_number: 0\n",
      "          forecast_reference_time: 2020-02-08 03:00:00\n",
      "     Attributes:\n",
      "          Conventions: CF-1.7\n",
      "          field_code: 61\n",
      "          institution: Met Office\n",
      "          nimrod_version: 2\n",
      "          num_model_levels: 1\n",
      "          processing: accumulation or average\n",
      "          source: ek\n",
      "          title: Unknown\n"
     ]
    }
   ],
   "source": [
    "print (precip)"
   ]
  },
  {
   "cell_type": "code",
   "execution_count": 38,
   "metadata": {},
   "outputs": [],
   "source": [
    "# Aggregate by day\n",
    "daily_sum = precip.aggregated_by(\n",
    "    ['day'],\n",
    "    iris.analysis.SUM)"
   ]
  },
  {
   "cell_type": "code",
   "execution_count": 39,
   "metadata": {},
   "outputs": [
    {
     "name": "stdout",
     "output_type": "stream",
     "text": [
      "amount_of_precipitation / (mm)      (-- : 11; time: 3; projection_y_coordinate: 704; projection_x_coordinate: 548)\n",
      "     Dimension coordinates:\n",
      "          time                          -         x                           -                             -\n",
      "          projection_y_coordinate       -         -                           x                             -\n",
      "          projection_x_coordinate       -         -                           -                             x\n",
      "     Auxiliary coordinates:\n",
      "          realization                   x         -                           -                             -\n",
      "          day                           -         x                           -                             -\n",
      "          forecast_period               -         x                           -                             -\n",
      "          month                         -         x                           -                             -\n",
      "     Scalar coordinates:\n",
      "          experiment_number: 0\n",
      "          forecast_reference_time: 2020-02-08 03:00:00\n",
      "     Attributes:\n",
      "          Conventions: CF-1.7\n",
      "          field_code: 61\n",
      "          institution: Met Office\n",
      "          nimrod_version: 2\n",
      "          num_model_levels: 1\n",
      "          processing: accumulation or average\n",
      "          source: ek\n",
      "          title: Unknown\n",
      "     Cell methods:\n",
      "          sum: day\n"
     ]
    }
   ],
   "source": [
    "# Check this worked\n",
    "print (daily_sum)"
   ]
  },
  {
   "cell_type": "code",
   "execution_count": 40,
   "metadata": {},
   "outputs": [
    {
     "name": "stderr",
     "output_type": "stream",
     "text": [
      "C:\\Users\\user\\Anaconda3\\lib\\site-packages\\iris\\coord_systems.py:531: UserWarning: The default value for the *approx* keyword argument to TransverseMercator will change from True to False after 0.18.\n",
      "  globe=globe,\n"
     ]
    },
    {
     "data": {
      "text/plain": [
       "<cartopy.mpl.feature_artist.FeatureArtist at 0x2a90dd38940>"
      ]
     },
     "execution_count": 40,
     "metadata": {},
     "output_type": "execute_result"
    },
    {
     "data": {
      "image/png": "[encoded data removed]",
      "text/plain": [
       "<Figure size 432x288 with 2 Axes>"
      ]
     },
     "metadata": {
      "needs_background": "light"
     },
     "output_type": "display_data"
    }
   ],
   "source": [
    "qplt.pcolormesh(daily_sum[0, 0], vmin = 45, vmax = 95) \n",
    "plt.gca().coastlines()"
   ]
  }
 ],
 "metadata": {
  "kernelspec": {
   "display_name": "Python 3",
   "language": "python",
   "name": "python3"
  },
  "language_info": {
   "codemirror_mode": {
    "name": "ipython",
    "version": 3
   },
   "file_extension": ".py",
   "mimetype": "text/x-python",
   "name": "python",
   "nbconvert_exporter": "python",
   "pygments_lexer": "ipython3",
   "version": "3.7.1"
  }
 },
 "nbformat": 4,
 "nbformat_minor": 4
}
