{
 "cells": [
  {
   "cell_type": "markdown",
   "id": "71e4d748",
   "metadata": {},
   "source": [
    "# Interactive Notebook for Calculating the return period from ensemble forecasts"
   ]
  },
  {
   "cell_type": "code",
   "execution_count": 90,
   "id": "564d6868",
   "metadata": {},
   "outputs": [],
   "source": [
    "from ipywidgets import interact\n",
    "from netCDF4 import Dataset\n",
    "import os\n",
    "import numpy as np\n",
    "import iris\n",
    "import iris.quickplot as qplt\n",
    "import matplotlib.pyplot as plt"
   ]
  },
  {
   "cell_type": "markdown",
   "id": "4feeef5e",
   "metadata": {},
   "source": [
    "## Defining various functions"
   ]
  },
  {
   "cell_type": "code",
   "execution_count": 32,
   "id": "d9a5533c",
   "metadata": {},
   "outputs": [],
   "source": [
    "def read_ensemble_member(file, varname):\n",
    "    '''\n",
    "    Reads in the forecast ensemble netcdf files\n",
    "    file: path to the ensemble forecast file \n",
    "    varname: variable name to read in (amount_of_precipitation)\n",
    "    '''\n",
    "    data = Dataset(file)[varname]\n",
    "    return data"
   ]
  },
  {
   "cell_type": "code",
   "execution_count": 58,
   "id": "2b0f4d8a",
   "metadata": {},
   "outputs": [],
   "source": [
    "def sliding_time(data):\n",
    "    '''\n",
    "    Calculates the maximum rainfal over sliding 24 hour windows of the\n",
    "    54 hour lead time forecast\n",
    "    \n",
    "    data: precipitation array at all the time steps\n",
    "    '''\n",
    "    max_value = data[0,:,:]\n",
    "    summed_value = data[0,:,:]\n",
    "    for t in range((len(data[:,0,0])-24)):\n",
    "        summed_value = np.sum(data[t:t+24,:,:], axis=0)\n",
    "        max_value = np.maximum(summed_value[:,:], max_value[:,:])\n",
    "\n",
    "    return max_value"
   ]
  },
  {
   "cell_type": "code",
   "execution_count": 64,
   "id": "15cc5407",
   "metadata": {},
   "outputs": [],
   "source": [
    "def return_period(period, max_value, times):\n",
    "    '''\n",
    "    Compares the maximum rainfall over the sliding 24 hour window against the rainfall thresholds\n",
    "    for different return periods at each coordinate position\n",
    "    \n",
    "    period: zero array which will store the integer value of the return period threshold which has been met\n",
    "    max_value: The calculated maximum rainfall over the sliding 24 hour windows in the forecast\n",
    "    times: This can be the 5,10,25,50,100 Return period\n",
    "    '''\n",
    "    for year in times:\n",
    "        ERA = os.path.join(\"../Return_Periods_ERA5/regridded\",str(\"ERA_RP_\"+str(year)+\".nc\"))\n",
    "        var = \"r\"+str(year)+\"yrrp\"\n",
    "        return_estimate = read_ERA(ERA, var)\n",
    "        max_value = np.float32(max_value)\n",
    "        for x in range(len(max_value[:,0])):\n",
    "            for y in range(len(max_value[0,:])):\n",
    "                if return_estimate[x,y] < 10000.0:\n",
    "                    if max_value[x,y] > return_estimate[x,y]:\n",
    "                        period[x,y] = year\n",
    "    return period"
   ]
  },
  {
   "cell_type": "code",
   "execution_count": 65,
   "id": "7395aea7",
   "metadata": {},
   "outputs": [],
   "source": [
    "def read_ERA(file, varname):\n",
    "    '''\n",
    "    Read in the ERA return netCDF file\n",
    "    file: path to the file\n",
    "    varname: variable to be read in (\"r_%year_yrrp\")\n",
    "    '''\n",
    "    v = Dataset(file)[varname]\n",
    "    data = v[:,:]\n",
    "    return data"
   ]
  },
  {
   "cell_type": "code",
   "execution_count": 66,
   "id": "dcd9896a",
   "metadata": {},
   "outputs": [],
   "source": [
    "def read_coords(file, lonname, latname):\n",
    "    '''\n",
    "    Read in the projected x and y coordinates\n",
    "    file: path to the file\n",
    "    lonname: variable name\n",
    "    latname: variable name\n",
    "    '''\n",
    "    v = Dataset(file)\n",
    "    x = v[lonname]\n",
    "    y = v[latname]\n",
    "    return x, y"
   ]
  },
  {
   "cell_type": "code",
   "execution_count": 101,
   "id": "cb821454",
   "metadata": {},
   "outputs": [],
   "source": [
    "def write2nc(return_period_arr, x, y, outputfile):\n",
    "    '''\n",
    "    Write calculated return period to a netCDF file\n",
    "    return_period_arr: return period array\n",
    "    x: X coordinate\n",
    "    y: Y coordinate\n",
    "    outputfile: File name for output\n",
    "    '''\n",
    "    xname = \"projection_x_coordinate\"\n",
    "    yname = \"projection_y_coordinate\"\n",
    "    \n",
    "    dataset_new = Dataset(outputfile, 'w', format='NETCDF4_CLASSIC')\n",
    "\n",
    "    proj_y = dataset_new.createDimension(yname, len(y))\n",
    "    proj_x = dataset_new.createDimension(xname, len(x))\n",
    "    \n",
    "    y_corr = dataset_new.createVariable(yname, np.float64,yname)\n",
    "    x_corr = dataset_new.createVariable(xname, np.float64,xname)\n",
    "\n",
    "    y_corr.units = 'm'\n",
    "    x_corr.units = 'm'\n",
    "    y_corr[:] = y\n",
    "    x_corr[:] = x\n",
    "    \n",
    "    return_period = dataset_new.createVariable(\"return_period\", np.float64, (yname,xname))\n",
    "    return_period.units = \"years\"\n",
    "    return_period.grid_mapping = \"transverse_mercator\"\n",
    "    return_period[:] = return_period_arr\n",
    "    \n",
    "    # Close the netcdf file\n",
    "    dataset_new.close()\n",
    "\n",
    "    return"
   ]
  },
  {
   "cell_type": "code",
   "execution_count": null,
   "id": "5303c546",
   "metadata": {},
   "outputs": [],
   "source": [
    "def calculating_return_periods(Scenario):\n",
    "    '''\n",
    "    Calculate the spatially return priod for the ensemble forecasts\n",
    "    Scenario: Ensemble member number\n",
    "    \n",
    "    '''\n",
    "    # Return periods\n",
    "    times = [5,10,25,50,100]\n",
    "    # Set up some local paths and fixed variables\n",
    "    base = \"../ForecastData/ensemble_files\"\n",
    "    varname = \"amount_of_precipitation\"\n",
    "    # Load in the ensemble member\n",
    "    filename = str(\"202002080300_u1096_ng_ek\"+ str(Scenario).zfill(2)+\"_precipaccum_2km.nc\")\n",
    "    file = os.path.join(base,filename)\n",
    "    data = read_ensemble_member(file, varname)\n",
    "    # # Calculating the accumlated rain fall over 24 hour windows\n",
    "    # # Each forecast has a 54-hour lead time \n",
    "    max_value = sliding_time(data)\n",
    "    # Set up dummy array for the return period array\n",
    "    period = np.zeros(np.shape(max_value))\n",
    "    # # Calculate return period from ERA file\n",
    "    period = return_period(period, max_value, times)\n",
    "    x, y = read_coords(file, 'projection_x_coordinate', 'projection_y_coordinate')\n",
    "    write2nc(period, x[:], y[:], \"../py_returnperiod_ens_member%i.nc\"%(Scenario))\n",
    "    \n",
    "    return"
   ]
  },
  {
   "cell_type": "markdown",
   "id": "55a34412",
   "metadata": {},
   "source": [
    "# Slide through the various forecast ensemble members"
   ]
  },
  {
   "cell_type": "code",
   "execution_count": null,
   "id": "b4679be7",
   "metadata": {},
   "outputs": [],
   "source": [
    "# Slider for running through the various ensemble members\n",
    "@interact(Scenario = (0,11))\n",
    "calculating_return_periods(Scenario)"
   ]
  },
  {
   "cell_type": "markdown",
   "id": "4cc77f0b",
   "metadata": {},
   "source": [
    "## Need to update the plotting"
   ]
  },
  {
   "cell_type": "code",
   "execution_count": null,
   "id": "07e93a0c",
   "metadata": {},
   "outputs": [],
   "source": []
  }
 ],
 "metadata": {
  "kernelspec": {
   "display_name": "Python 3 (ipykernel)",
   "language": "python",
   "name": "python3"
  },
  "language_info": {
   "codemirror_mode": {
    "name": "ipython",
    "version": 3
   },
   "file_extension": ".py",
   "mimetype": "text/x-python",
   "name": "python",
   "nbconvert_exporter": "python",
   "pygments_lexer": "ipython3",
   "version": "3.9.12"
  }
 },
 "nbformat": 4,
 "nbformat_minor": 5
}
